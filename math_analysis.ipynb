{
 "cells": [
  {
   "cell_type": "markdown",
   "id": "d6605f7b-78f9-4261-90bc-ffdc7f9ef018",
   "metadata": {},
   "source": [
    "This is the _beginning_ of the **hard** math analysis"
   ]
  },
  {
   "cell_type": "code",
   "execution_count": 1,
   "id": "a8feff8f-28de-4cc0-ac2b-3ba00c65b310",
   "metadata": {},
   "outputs": [],
   "source": [
    "a = 5"
   ]
  },
  {
   "cell_type": "code",
   "execution_count": 2,
   "id": "d19fb516-6992-4a7a-afe6-349830dfbe6a",
   "metadata": {},
   "outputs": [],
   "source": [
    "b = a + 1"
   ]
  },
  {
   "cell_type": "markdown",
   "id": "848fb870-ba7b-4643-b09d-504283a49d89",
   "metadata": {},
   "source": [
    "Let's **mix** some variables!"
   ]
  },
  {
   "cell_type": "code",
   "execution_count": 3,
   "id": "872a317b-24c8-49ff-a92d-61ff99e9fd3b",
   "metadata": {},
   "outputs": [
    {
     "data": {
      "text/plain": [
       "11"
      ]
     },
     "execution_count": 3,
     "metadata": {},
     "output_type": "execute_result"
    }
   ],
   "source": [
    "a + b"
   ]
  }
 ],
 "metadata": {
  "kernelspec": {
   "display_name": "Python 3 (ipykernel)",
   "language": "python",
   "name": "python3"
  },
  "language_info": {
   "codemirror_mode": {
    "name": "ipython",
    "version": 3
   },
   "file_extension": ".py",
   "mimetype": "text/x-python",
   "name": "python",
   "nbconvert_exporter": "python",
   "pygments_lexer": "ipython3",
   "version": "3.11.6"
  }
 },
 "nbformat": 4,
 "nbformat_minor": 5
}
